{
 "cells": [
  {
   "cell_type": "markdown",
   "metadata": {},
   "source": [
    "# Automatic Text Generaion\n",
    "\n",
    "This program runs on a corpus of homogeneous document of textual content and automatically generates similar text from a given seed. Specifically, we apply on a set of 5000 user Amazon reviews on a product. There are three  sequential modeling techniques to be chosen from - RNN, LSTM< and GRU."
   ]
  },
  {
   "cell_type": "code",
   "execution_count": 1,
   "metadata": {},
   "outputs": [],
   "source": [
    "import numpy as np\n",
    "import sys\n",
    "\n",
    "# to print all in a large list avoiding \"...\"\n",
    "#np.set_printoptions(threshold=sys.maxsize)"
   ]
  },
  {
   "cell_type": "code",
   "execution_count": 2,
   "metadata": {},
   "outputs": [],
   "source": [
    "# modeling parameters\n",
    "\n",
    "EMBEDDING_DIMENSION = 300\n",
    "RNN_OUTPUT_DIMENSION = 50\n",
    "MEMORY_LENGTH = 25\n",
    "EPOCHS = 25\n",
    "BATCH_SIZE = 1024\n",
    "TRAIN_PERCENT = 0.7\n",
    "VERBOSE_MODE = True\n",
    "SAVE_MODEL = True\n",
    "SAVED_MODEL = './models/review_model_lstm.h5'"
   ]
  },
  {
   "cell_type": "code",
   "execution_count": 3,
   "metadata": {},
   "outputs": [
    {
     "name": "stdout",
     "output_type": "stream",
     "text": [
      "                                                  ID  \\\n",
      "0  Review: 4736 : Amazon.com: Customer reviews: F...   \n",
      "1  Review: 2571 : Amazon.com: Customer reviews: F...   \n",
      "2  Review: 1356 : Amazon.com: Customer reviews: F...   \n",
      "3  Review: 573 : Amazon.com: Customer reviews: Fi...   \n",
      "4  Review: 43 : Amazon.com: Customer reviews: Fir...   \n",
      "\n",
      "                           Date  \\\n",
      "0  Tue Apr 16 00:00:00 EDT 2019   \n",
      "1  Sat Oct 27 00:00:00 EDT 2018   \n",
      "2  Tue Nov 13 00:00:00 EST 2018   \n",
      "3  Fri Nov 09 00:00:00 EST 2018   \n",
      "4  Sat Oct 06 00:00:00 EDT 2018   \n",
      "\n",
      "                                                Body  \n",
      "0  I like that it has a feature that lets you set...  \n",
      "1  I returned this tablet for the simple fact tha...  \n",
      "2  I guess you get whatcha pay for. I thought, wi...  \n",
      "3  I had the Kindle Fire HDX 8.9. It had so many ...  \n",
      "4  Sound is tiny and extremely difficult to keep ...  \n",
      "Number of Reviews:  5000\n",
      "I had the Kindle Fire HDX 8.9. It had so many more apps. One which I truly miss is, Optimum to go. I am and older person and I liked that I could watch my TV in my bedroom(no reg Tv in my bedroom). I played scrabble , this kindle does not have it either. I am truly disappointed in this. I might give it to my grandson and get myself another brand.. Alexa is not that important to me.\n",
      "I had the Kindle Fire HDX 8.9. It had so many more apps. One which I truly miss is, Optimum to go. I am and older person and I liked that I could watch my TV in my bedroom(no reg Tv in my bedroom). I played scrabble , this kindle does not have it either. I am truly disappointed in this. I might give it to my grandson and get myself another brand.. Alexa is not that important to me.\n"
     ]
    }
   ],
   "source": [
    "# Read the review file\n",
    "\n",
    "import pandas as pd\n",
    "\n",
    "#data = pd.read_csv('./data/Amazon Reviews - Fire HD 8 Tablet - 200.csv') # for development\n",
    "data = pd.read_csv(r'C:\\Users\\aksha\\Downloads\\Amazon Reviews - Fire HD 8 Tablet - 5000.csv')\n",
    "print(data.head())\n",
    "\n",
    "# Extract abstracts\n",
    "all_reviews = list(data['Body'])\n",
    "print(\"Number of Reviews: \", len(all_reviews))\n",
    "\n",
    "# test print and cross check\n",
    "print(data['Body'][3])\n",
    "print(all_reviews[3])"
   ]
  },
  {
   "cell_type": "code",
   "execution_count": 4,
   "metadata": {},
   "outputs": [
    {
     "name": "stderr",
     "output_type": "stream",
     "text": [
      "C:\\Users\\aksha\\anaconda3\\lib\\site-packages\\dateutil\\parser\\_parser.py:1207: UnknownTimezoneWarning: tzname EDT identified but not understood.  Pass `tzinfos` argument in order to correctly return a timezone-aware datetime.  In a future version, this will raise an exception.\n",
      "  warnings.warn(\"tzname {tzname} identified but not understood.  \"\n",
      "C:\\Users\\aksha\\anaconda3\\lib\\site-packages\\dateutil\\parser\\_parser.py:1207: UnknownTimezoneWarning: tzname EST identified but not understood.  Pass `tzinfos` argument in order to correctly return a timezone-aware datetime.  In a future version, this will raise an exception.\n",
      "  warnings.warn(\"tzname {tzname} identified but not understood.  \"\n"
     ]
    },
    {
     "name": "stdout",
     "output_type": "stream",
     "text": [
      "                                                  ID  \\\n",
      "0  Review: 4736 : Amazon.com: Customer reviews: F...   \n",
      "1  Review: 2571 : Amazon.com: Customer reviews: F...   \n",
      "2  Review: 1356 : Amazon.com: Customer reviews: F...   \n",
      "3  Review: 573 : Amazon.com: Customer reviews: Fi...   \n",
      "4  Review: 43 : Amazon.com: Customer reviews: Fir...   \n",
      "\n",
      "                           Date  \\\n",
      "0  Tue Apr 16 00:00:00 EDT 2019   \n",
      "1  Sat Oct 27 00:00:00 EDT 2018   \n",
      "2  Tue Nov 13 00:00:00 EST 2018   \n",
      "3  Fri Nov 09 00:00:00 EST 2018   \n",
      "4  Sat Oct 06 00:00:00 EDT 2018   \n",
      "\n",
      "                                                Body        yymm  \n",
      "0  I like that it has a feature that lets you set...   (2019, 4)  \n",
      "1  I returned this tablet for the simple fact tha...  (2018, 10)  \n",
      "2  I guess you get whatcha pay for. I thought, wi...  (2018, 11)  \n",
      "3  I had the Kindle Fire HDX 8.9. It had so many ...  (2018, 11)  \n",
      "4  Sound is tiny and extremely difficult to keep ...  (2018, 10)  \n"
     ]
    },
    {
     "data": {
      "image/png": "[encoded data removed]",
      "text/plain": [
       "<Figure size 864x432 with 1 Axes>"
      ]
     },
     "metadata": {
      "needs_background": "light"
     },
     "output_type": "display_data"
    }
   ],
   "source": [
    "# Plot the frequency of reviews on a monthly basis\n",
    "\n",
    "import matplotlib.pyplot as plt\n",
    "%matplotlib inline\n",
    "\n",
    "data['yymm'] = [\n",
    "    (year, month) for year, month in zip(\n",
    "        pd.DatetimeIndex(data['Date']).year, pd.DatetimeIndex(data['Date']).month)\n",
    "]\n",
    "\n",
    "monthly = data.groupby('yymm')['ID'].count().plot.bar(\n",
    "    color='red', edgecolor='k', figsize=(12, 6))\n",
    "\n",
    "plt.ylabel('Number of Reviews')\n",
    "plt.xlabel('Date')\n",
    "plt.title('Reviews over Time')\n",
    "\n",
    "print(data.head())"
   ]
  },
  {
   "cell_type": "code",
   "execution_count": 5,
   "metadata": {},
   "outputs": [
    {
     "ename": "ModuleNotFoundError",
     "evalue": "No module named 'aText'",
     "output_type": "error",
     "traceback": [
      "\u001b[1;31m---------------------------------------------------------------------------\u001b[0m",
      "\u001b[1;31mModuleNotFoundError\u001b[0m                       Traceback (most recent call last)",
      "\u001b[1;32m~\\AppData\\Local\\Temp/ipykernel_5520/3941657600.py\u001b[0m in \u001b[0;36m<module>\u001b[1;34m\u001b[0m\n\u001b[0;32m      6\u001b[0m \u001b[1;31m# \"pip install atext\"\u001b[0m\u001b[1;33m\u001b[0m\u001b[1;33m\u001b[0m\u001b[0m\n\u001b[0;32m      7\u001b[0m \u001b[1;33m\u001b[0m\u001b[0m\n\u001b[1;32m----> 8\u001b[1;33m \u001b[1;32mimport\u001b[0m \u001b[0maText\u001b[0m\u001b[1;33m\u001b[0m\u001b[1;33m\u001b[0m\u001b[0m\n\u001b[0m\u001b[0;32m      9\u001b[0m \u001b[1;33m\u001b[0m\u001b[0m\n\u001b[0;32m     10\u001b[0m \u001b[1;31m# kill the spawned JVM process once done with aText, else it will continue to running in the background\u001b[0m\u001b[1;33m\u001b[0m\u001b[1;33m\u001b[0m\u001b[0m\n",
      "\u001b[1;31mModuleNotFoundError\u001b[0m: No module named 'aText'"
     ]
    }
   ],
   "source": [
    "#exclude\n",
    "# Load the text analysis package aText\n",
    "\n",
    "# To install aText: \"conda env list\" to list all conda environment\n",
    "# \"activate py37\" to activate your favorite environment\n",
    "# \"pip install atext\"\n",
    "\n",
    "import aText\n",
    "\n",
    "# kill the spawned JVM process once done with aText, else it will continue to running in the background\n",
    "aText.stop_atext()\n",
    "\n",
    "# first usage of aText takes time to download some necessary files\n",
    "# make sure to have write permission for the Lib/site-package directory\n",
    "aText.start_atext()\n",
    "aText.test()\n",
    "\n",
    "from py4j.java_gateway import JavaGateway\n",
    "gateway = JavaGateway()                 # connect to the JV\n",
    "misc_app = gateway.entry_point          # get the an application instance\n",
    "\n",
    "data['sentiment'] = [misc_app.sentiment(text)[0] for text in data['Body']]"
   ]
  },
  {
   "cell_type": "code",
   "execution_count": null,
   "metadata": {},
   "outputs": [],
   "source": [
    "#exclude\n",
    "# Plot the overall sentiment in reviews on a monthly basis\n",
    "\n",
    "monthly = data.groupby('yymm') \\\n",
    "    .agg({'sentiment':'mean', 'ID':'size'})\\\n",
    "    .rename(columns={'sentiment':'avg_sent','ID':'count'}) \n",
    "    #.reset_index()\n",
    "print(monthly)\n",
    "\n",
    "#monthly['sentiment'].plot.bar(color='red', edgecolor='k', figsize=(12, 6))\n",
    "\n",
    "freq_series = pd.Series(monthly['avg_sent'])\n",
    "\n",
    "plt.figure(edgecolor='k', figsize=(12, 8))\n",
    "ax = freq_series.plot(kind = 'bar')\n",
    "ax.set_ylabel('Monthly Average Sentiment Level')\n",
    "ax.set_xlabel('Year & Month')\n",
    "ax.set_title('Monthly Sentiment Chart')\n",
    "\n",
    "rects = ax.patches\n",
    "\n",
    "for rect, label in zip(rects, monthly['count']):\n",
    "    height = rect.get_height()\n",
    "    ax.text(rect.get_x() + rect.get_width() / 2, height, label,\n",
    "            ha='center', va='bottom')"
   ]
  },
  {
   "cell_type": "code",
   "execution_count": 5,
   "metadata": {},
   "outputs": [],
   "source": [
    "# For word embedding, either train with the corpus of reviews or load a pretrained model from Google\n",
    "\n",
    "import gensim\n",
    "from gensim.models import Word2Vec\n",
    "\n",
    "# Load Google's pre-trained Word2Vec, this takes a minute or two\n",
    "model_path = r'C:\\Users\\aksha\\Downloads\\GoogleNews-vectors-negative300.bin'\n",
    "word2vec_model = gensim.models.KeyedVectors.load_word2vec_format(model_path, binary=True) \n",
    "    \n",
    "# Training\n",
    "# size: The number of dimensions of the embeddings and the default is 100.\n",
    "# window: The maximum distance between a target word and words around the target word. The default window is 5.\n",
    "# min_count: The minimum count of words to consider when training the model; words with occurrence less than this count will be ignored. The default for min_count is 5.\n",
    "# workers: The number of partitions during training and the default workers is 3.\n",
    "# sg: The training algorithm, either CBOW(0) or skip gram(1). The default training algorithm is CBOW.\n",
    "\n",
    "#word2vec_model = Word2Vec(review_sentences, size=100, window=50, min_count=1, workers=4, sg=1)\n",
    "#word2vec_model.save(\"./models/word2vec.model\")"
   ]
  },
  {
   "cell_type": "code",
   "execution_count": 6,
   "metadata": {},
   "outputs": [
    {
     "name": "stdout",
     "output_type": "stream",
     "text": [
      "['Subrata', 'loves', 'data', 'science', '.', 'He', 'lives', 'in', 'Belmont', '.']\n",
      "['Subrata loves data science.', 'He lives in Belmont.']\n",
      "['Ways toooooo many ads, screen is ok.', 'I am actually sorry I purchased this unit.']\n",
      "[['Ways', 'toooooo', 'many', 'ads', ',', 'screen', 'is', 'ok', '.'], ['I', 'am', 'actually', 'sorry', 'I', 'purchased', 'this', 'unit', '.']]\n",
      "[['This', 'is', 'our', '9th', 'Kindle', '.', 'I', 'broke', 'the', 'glass', 'on', 'my', 'last', 'Fire', 'HD8', 'and', 'needed', 'another', '.', 'I', 'had', 'a', 'minor', 'issue', 'with', 'this', 'new', 'one', 'and', 'Amazon', 'called', 'ME', ',', 'problem', 'was', 'easily', 'solved', '.'], ['I', 'bought', 'this', 'to', 'replace', 'a', 'three', 'year', 'old', 'Tablet', 'that', 'I', 'paid', '$', '120', 'for', '.', 'I', 'was', 'hoping', 'that', 'this', 'tablet', 'would', 'be', 'faster', 'and', 'my', 'old', 'tablet', 'was', 'done', 'updating', '.', 'For', '$', '50', 'this', 'Amazon', 'Tablet', 'has', 'blown', 'away', 'all', 'my', 'previous', 'tablets', 'that', 'costed', 'double', 'or', 'more', '.']]\n",
      "['very', 'nice', 'tablet', 'good', 'size', 'fits', 'in', 'my', 'purse', 'good', 'amount', 'memory', 'has', 'Alexa', 'feature', 'only', 'thing', 'I', 'would', 'change', 'is', 'the', 'volume', 'the', 'speaker', 'is', 'not', 'loud', 'enough', 'for', 'me', 'when', 'I', 'watch', 'videos', 'or', 'Sling', 'TV', 'Maybe', 'it', 'personal', 'choice']\n",
      "['THAN', 'THANK', 'THANKS', 'THAT', 'THE', 'THEIR', 'THEM', 'THEN', 'THERE', 'THESE', 'THEY', 'THIN', 'THING', 'THINGS', 'THIS', 'THOUGH', 'THREE', 'THis', 'TIME', 'TIMES', 'TINY', 'TL', 'TO', 'TON', 'TONS', 'TOO', 'TOP', 'TOPS', 'TOTAL', 'TOUCH', 'TOY', 'TRAVELING', 'TRUE', 'TRUST', 'TS', 'TSA', 'TURN', 'TV', 'TVs', 'TWO', 'TYPE', 'TYPING', 'Tab', 'Table', 'Tables', 'Tablet', 'Tablets', 'Tabs', 'Tailoring']\n",
      "5188\n"
     ]
    }
   ],
   "source": [
    "# Basic parsing using NLTK and the preparation of data\n",
    "# Can also be used \"from keras.preprocessing.text import Tokenizer\" for parsing\n",
    "\n",
    "import nltk\n",
    "from nltk.tokenize import sent_tokenize, word_tokenize\n",
    "\n",
    "data = \"Subrata loves data science. He lives in Belmont.\"\n",
    "print(word_tokenize(data))\n",
    "print(sent_tokenize(data))\n",
    "\n",
    "# extract sentences but not really used\n",
    "review_sentences = []\n",
    "for sentence in [sent_tokenize(r) for r in all_reviews]:\n",
    "    review_sentences += sentence\n",
    "print(review_sentences[18:20])\n",
    "review_sentences = [word_tokenize(s) for s in review_sentences]\n",
    "print(review_sentences[18:20])\n",
    "\n",
    "# Tokenize\n",
    "reviews_tokenized = [word_tokenize(s) for s in all_reviews]\n",
    "print(reviews_tokenized[18:20])\n",
    "\n",
    "# Filter out the ones not in the mode but keeping the common punctuations: '.!,-:;'\n",
    "reviews_tokenized = [[w for w in s if w in word2vec_model.key_to_index] for s in reviews_tokenized]\n",
    "print(reviews_tokenized[103])\n",
    "\n",
    "# Build the set of all words of the words and order\n",
    "review_words_set = set([])\n",
    "for s in reviews_tokenized:\n",
    "    review_words_set.update(s)\n",
    "review_words_sorted = sorted(review_words_set)\n",
    "print(review_words_sorted[3001:3050])\n",
    "\n",
    "# build an index of the words\n",
    "review_words_indexed = {w:i for i, w in enumerate(review_words_sorted)}\n",
    "print(review_words_indexed['content'])"
   ]
  },
  {
   "cell_type": "code",
   "execution_count": 7,
   "metadata": {},
   "outputs": [
    {
     "name": "stdout",
     "output_type": "stream",
     "text": [
      "(12603, 300)\n"
     ]
    }
   ],
   "source": [
    "# construct the embedding matrix to input to the model\n",
    "embedding_matrix = np.zeros((len(review_words_sorted), EMBEDDING_DIMENSION))\n",
    "for i, word in enumerate(review_words_sorted):\n",
    "    embedding_matrix[i] = word2vec_model[word]\n",
    "embedding_matrix = np.array(embedding_matrix)\n",
    "print(embedding_matrix.shape)"
   ]
  },
  {
   "cell_type": "code",
   "execution_count": 8,
   "metadata": {},
   "outputs": [
    {
     "name": "stdout",
     "output_type": "stream",
     "text": [
      "(208514, 25) (89364, 25) (208514,) (89364,)\n",
      "['Unfortunately' 'it' 'may' 'be' 'returned' 'Feels' 'way' 'flimsy' 'poor'\n",
      " 'quality' 'I' 'wish' 'this' 'would' 'been' 'nicer' 'really' 'wanted'\n",
      " 'become' 'more' 'loyal' 'Amazon' 'ecosystem' 'this' 'item']\n",
      "wo\n",
      "['purchased' 'this' 'new' 'kindle' 'specifically' 'because' 'it' 'claims'\n",
      " 'support' 'up' 'GB' 'compatible' 'micro' 'sd' 'card' 'The' 'kindle' 'I'\n",
      " 'received' 'would' 'not' 'communicate' 'with' 'the' 'card']\n",
      "for\n"
     ]
    }
   ],
   "source": [
    "# generate training and validation sequences of words from each review\n",
    "\n",
    "all_sequences = []\n",
    "all_labels = []\n",
    "# Iterate through the sequences of tokens\n",
    "for seq in reviews_tokenized:\n",
    "    # Create multiple training examples from each sequence\n",
    "    for i in range(MEMORY_LENGTH, len(seq)):\n",
    "        # Extract the sub sequence and label\n",
    "        extract = seq[i - MEMORY_LENGTH:i + 1]\n",
    "\n",
    "        # Set the features and label\n",
    "        #all_sequences.append(' '.join(extract[:-1]))\n",
    "        all_sequences.append(extract[:-1])\n",
    "        all_labels.append(extract[-1])\n",
    "        \n",
    "# Decide on number of samples for training\n",
    "train_end = int(TRAIN_PERCENT * len(all_labels))\n",
    "\n",
    "train_sequences_words = np.array(all_sequences[:train_end])\n",
    "valid_sequences_words = np.array(all_sequences[train_end:])\n",
    "\n",
    "train_labels_words = np.array(all_labels[:train_end])\n",
    "valid_labels_words = np.array(all_labels[train_end:])\n",
    "\n",
    "print(train_sequences_words.shape, valid_sequences_words.shape,\n",
    "      train_labels_words.shape, valid_labels_words.shape)\n",
    "print(train_sequences_words[190])\n",
    "print(train_labels_words[190])\n",
    "print(valid_sequences_words[200])\n",
    "print(valid_labels_words[200])"
   ]
  },
  {
   "cell_type": "code",
   "execution_count": 9,
   "metadata": {},
   "outputs": [
    {
     "name": "stdout",
     "output_type": "stream",
     "text": [
      "(208514, 25) (208514, 12603) (89364, 25) (89364, 12603)\n",
      "[ 8648  5484  6709   658 11574  6616  8916 12331  6989 11095 12080  8913\n",
      "   658  5487 11583 12367  4356 12520  8796  4792  8967 11876  8913 10886\n",
      " 12331]\n",
      "[0. 0. 0. ... 0. 0. 0.]\n",
      "[ 3409  8648  8904  8916  7171 11571 11615  5886  8655  7789  4985 12381\n",
      "  7304  2045  8904  8916  6038  6619  7508  8648  7125 11615  8916  7789\n",
      "  4349]\n",
      "[0. 0. 0. ... 0. 0. 0.]\n"
     ]
    }
   ],
   "source": [
    "# generate training and validation sequences of indexes from each review\n",
    "\n",
    "train_sequences = np.array([[review_words_indexed[w] for w in s] for s in train_sequences_words])\n",
    "train_labels = np.array([np.zeros(len(review_words_indexed))] * len(train_labels_words))\n",
    "for i, w in enumerate(train_labels_words):\n",
    "    train_labels[i, review_words_indexed[w]] = 1\n",
    "\n",
    "valid_sequences = np.array([[review_words_indexed[w] for w in s] for s in valid_sequences_words])\n",
    "valid_labels = np.array([np.zeros(len(review_words_indexed))] * len(valid_labels_words))\n",
    "for i, w in enumerate(valid_labels_words):\n",
    "    valid_labels[i, review_words_indexed[w]] = 1\n",
    "\n",
    "print(train_sequences.shape, train_labels.shape, valid_sequences.shape, valid_labels.shape)\n",
    "print(train_sequences[19000])\n",
    "print(train_labels[19000])\n",
    "print(valid_sequences[5000])\n",
    "print(valid_labels[5000])"
   ]
  },
  {
   "cell_type": "code",
   "execution_count": 10,
   "metadata": {},
   "outputs": [
    {
     "name": "stdout",
     "output_type": "stream",
     "text": [
      "Model: \"sequential\"\n",
      "_________________________________________________________________\n",
      " Layer (type)                Output Shape              Param #   \n",
      "=================================================================\n",
      " embedding (Embedding)       (None, None, 300)         3780900   \n",
      "                                                                 \n",
      " masking (Masking)           (None, None, 300)         0         \n",
      "                                                                 \n",
      " lstm (LSTM)                 (None, 50)                70200     \n",
      "                                                                 \n",
      " dense (Dense)               (None, 128)               6528      \n",
      "                                                                 \n",
      " dropout (Dropout)           (None, 128)               0         \n",
      "                                                                 \n",
      " dense_1 (Dense)             (None, 12603)             1625787   \n",
      "                                                                 \n",
      "=================================================================\n",
      "Total params: 5,483,415\n",
      "Trainable params: 1,702,515\n",
      "Non-trainable params: 3,780,900\n",
      "_________________________________________________________________\n"
     ]
    }
   ],
   "source": [
    "# build the RNN models\n",
    "\n",
    "from keras_preprocessing.sequence import pad_sequences\n",
    "from keras.layers import Dense, Input, LSTM, Embedding, Masking, Dropout, Activation\n",
    "from keras.layers import concatenate\n",
    "from keras.models import Sequential\n",
    "from keras.layers import BatchNormalization\n",
    "\n",
    "lstm_model = Sequential()\n",
    "\n",
    "# Map words to an embedding via word2vec\n",
    "lstm_model.add(\n",
    "    Embedding(\n",
    "        input_dim=len(review_words_sorted),\n",
    "        output_dim=embedding_matrix.shape[1],\n",
    "        weights=[embedding_matrix],\n",
    "        trainable=False,\n",
    "        mask_zero=True))\n",
    "lstm_model.add(Masking())\n",
    "\n",
    "lstm_model.add(\n",
    "    LSTM(\n",
    "        RNN_OUTPUT_DIMENSION,\n",
    "        return_sequences=False,\n",
    "        dropout=0.1,\n",
    "        recurrent_dropout=0.1))\n",
    "\n",
    "lstm_model.add(Dense(128, activation='relu'))\n",
    "\n",
    "# Dropout for regularization\n",
    "lstm_model.add(Dropout(0.5))\n",
    "\n",
    "# Output layer\n",
    "lstm_model.add(Dense(len(review_words_sorted), activation='softmax'))\n",
    "\n",
    "# Compile the model\n",
    "lstm_model.compile(\n",
    "    optimizer='adam',\n",
    "    loss='categorical_crossentropy',\n",
    "    metrics=['accuracy'])\n",
    "lstm_model.summary()"
   ]
  },
  {
   "cell_type": "code",
   "execution_count": 11,
   "metadata": {},
   "outputs": [],
   "source": [
    "from keras.callbacks import EarlyStopping, ModelCheckpoint\n",
    "\n",
    "def make_callbacks(model_name):\n",
    "    callbacks = [EarlyStopping(monitor='val_loss', patience=25)]\n",
    "    if SAVE_MODEL:\n",
    "        callbacks.append(\n",
    "            ModelCheckpoint(\n",
    "                model_name,\n",
    "                save_best_only=True,\n",
    "                save_weights_only=False))\n",
    "    return callbacks"
   ]
  },
  {
   "cell_type": "code",
   "execution_count": 12,
   "metadata": {},
   "outputs": [
    {
     "name": "stdout",
     "output_type": "stream",
     "text": [
      "(208514, 25) (89364, 25) (208514, 12603) (89364, 12603)\n",
      "Epoch 1/25\n",
      "204/204 [==============================] - 120s 574ms/step - loss: 6.9646 - accuracy: 0.0390 - val_loss: 6.6429 - val_accuracy: 0.0447\n",
      "Epoch 2/25\n",
      "204/204 [==============================] - 95s 464ms/step - loss: 6.5805 - accuracy: 0.0491 - val_loss: 6.5049 - val_accuracy: 0.0553\n",
      "Epoch 3/25\n",
      "204/204 [==============================] - 98s 479ms/step - loss: 6.3996 - accuracy: 0.0643 - val_loss: 6.3069 - val_accuracy: 0.0736\n",
      "Epoch 4/25\n",
      "204/204 [==============================] - 98s 482ms/step - loss: 6.2147 - accuracy: 0.0762 - val_loss: 6.1613 - val_accuracy: 0.0811\n",
      "Epoch 5/25\n",
      "204/204 [==============================] - 100s 491ms/step - loss: 6.0828 - accuracy: 0.0814 - val_loss: 6.0605 - val_accuracy: 0.0868\n",
      "Epoch 6/25\n",
      "204/204 [==============================] - 99s 484ms/step - loss: 5.9805 - accuracy: 0.0852 - val_loss: 5.9877 - val_accuracy: 0.0918\n",
      "Epoch 7/25\n",
      "204/204 [==============================] - 102s 501ms/step - loss: 5.8991 - accuracy: 0.0900 - val_loss: 5.9340 - val_accuracy: 0.0992\n",
      "Epoch 8/25\n",
      "204/204 [==============================] - 105s 516ms/step - loss: 5.8321 - accuracy: 0.0945 - val_loss: 5.8893 - val_accuracy: 0.1020\n",
      "Epoch 9/25\n",
      "204/204 [==============================] - 100s 492ms/step - loss: 5.7708 - accuracy: 0.0988 - val_loss: 5.8574 - val_accuracy: 0.1067\n",
      "Epoch 10/25\n",
      "204/204 [==============================] - 100s 493ms/step - loss: 5.7172 - accuracy: 0.1015 - val_loss: 5.8168 - val_accuracy: 0.1089\n",
      "Epoch 11/25\n",
      "204/204 [==============================] - 100s 489ms/step - loss: 5.6660 - accuracy: 0.1046 - val_loss: 5.7848 - val_accuracy: 0.1133\n",
      "Epoch 12/25\n",
      "204/204 [==============================] - 97s 478ms/step - loss: 5.6172 - accuracy: 0.1082 - val_loss: 5.7628 - val_accuracy: 0.1150\n",
      "Epoch 13/25\n",
      "204/204 [==============================] - 97s 477ms/step - loss: 5.5739 - accuracy: 0.1100 - val_loss: 5.7372 - val_accuracy: 0.1181\n",
      "Epoch 14/25\n",
      "204/204 [==============================] - 100s 489ms/step - loss: 5.5335 - accuracy: 0.1116 - val_loss: 5.7203 - val_accuracy: 0.1202\n",
      "Epoch 15/25\n",
      "204/204 [==============================] - 95s 468ms/step - loss: 5.4949 - accuracy: 0.1137 - val_loss: 5.7050 - val_accuracy: 0.1217\n",
      "Epoch 16/25\n",
      "204/204 [==============================] - 97s 478ms/step - loss: 5.4627 - accuracy: 0.1160 - val_loss: 5.6866 - val_accuracy: 0.1224\n",
      "Epoch 17/25\n",
      "204/204 [==============================] - 97s 475ms/step - loss: 5.4275 - accuracy: 0.1173 - val_loss: 5.6752 - val_accuracy: 0.1237\n",
      "Epoch 18/25\n",
      "204/204 [==============================] - 100s 488ms/step - loss: 5.3968 - accuracy: 0.1187 - val_loss: 5.6663 - val_accuracy: 0.1260\n",
      "Epoch 19/25\n",
      "204/204 [==============================] - 99s 487ms/step - loss: 5.3674 - accuracy: 0.1202 - val_loss: 5.6576 - val_accuracy: 0.1263\n",
      "Epoch 20/25\n",
      "204/204 [==============================] - 99s 486ms/step - loss: 5.3397 - accuracy: 0.1209 - val_loss: 5.6449 - val_accuracy: 0.1274\n",
      "Epoch 21/25\n",
      "204/204 [==============================] - 97s 475ms/step - loss: 5.3155 - accuracy: 0.1218 - val_loss: 5.6465 - val_accuracy: 0.1284\n",
      "Epoch 22/25\n",
      "204/204 [==============================] - 99s 487ms/step - loss: 5.2889 - accuracy: 0.1227 - val_loss: 5.6501 - val_accuracy: 0.1303\n",
      "Epoch 23/25\n",
      "204/204 [==============================] - 100s 489ms/step - loss: 5.2661 - accuracy: 0.1234 - val_loss: 5.6464 - val_accuracy: 0.1305\n",
      "Epoch 24/25\n",
      "204/204 [==============================] - 102s 500ms/step - loss: 5.2425 - accuracy: 0.1246 - val_loss: 5.6447 - val_accuracy: 0.1310\n",
      "Epoch 25/25\n",
      "204/204 [==============================] - 104s 511ms/step - loss: 5.2181 - accuracy: 0.1244 - val_loss: 5.6387 - val_accuracy: 0.1322\n"
     ]
    },
    {
     "data": {
      "text/plain": [
       "<keras.callbacks.History at 0x28af4158040>"
      ]
     },
     "execution_count": 12,
     "metadata": {},
     "output_type": "execute_result"
    }
   ],
   "source": [
    "# train the model\n",
    "\n",
    "print(train_sequences.shape, valid_sequences.shape, train_labels.shape, valid_labels.shape)\n",
    "lstm_model.fit(\n",
    "    train_sequences,\n",
    "    train_labels,\n",
    "    epochs=EPOCHS,\n",
    "    batch_size=BATCH_SIZE,\n",
    "    verbose=VERBOSE_MODE,\n",
    "    callbacks=make_callbacks(SAVED_MODEL),\n",
    "    validation_data=(valid_sequences, valid_labels))"
   ]
  },
  {
   "cell_type": "code",
   "execution_count": 13,
   "metadata": {},
   "outputs": [
    {
     "name": "stdout",
     "output_type": "stream",
     "text": [
      "very nice tablet good size fits in my purse good amount memory has Alexa feature only thing I would change is the volume the speaker is not loud enough for me when I watch videos or Sling TV Maybe it personal choice\n",
      "I am truly disappointed in this tablet I have had the Fire HD 8 I have had the Fire HD 8 I have had the Fire HD 8 I have had\n"
     ]
    }
   ],
   "source": [
    "# generate reviews from a trained model\n",
    "\n",
    "import random\n",
    "\n",
    "def generate_review(model,\n",
    "                    seed_words,\n",
    "                    training_length=MEMORY_LENGTH,\n",
    "                    new_words=25):\n",
    "\n",
    "    # index the given sequence\n",
    "    seed = [review_words_indexed[w] for w in seed_words.split(' ')]\n",
    "\n",
    "    generated = seed\n",
    "    # Keep adding new words\n",
    "    for i in range(new_words):\n",
    "\n",
    "        # Make a prediction from the seed\n",
    "        preds = model.predict(np.array(seed).reshape(1, -1))[0].astype(np.float64)\n",
    "        next_index = np.argmax(preds)\n",
    "\n",
    "        # New seed adds on old word\n",
    "        seed = seed[1:] + [next_index]\n",
    "        generated.append(next_index)\n",
    "\n",
    "    # returning generated and actual reviews\n",
    "    generated = [review_words_sorted[i] for i in generated]\n",
    "    return ' '.join(generated)\n",
    "\n",
    "original_sequence = reviews_tokenized[103]\n",
    "print(' '.join(original_sequence))\n",
    "#generated = generate_review(lstm_model,  'very nice tablet good size fits in my bag')\n",
    "generated = generate_review(lstm_model,  'I am truly disappointed in this')\n",
    "print(generated)"
   ]
  },
  {
   "cell_type": "code",
   "execution_count": null,
   "metadata": {},
   "outputs": [],
   "source": []
  }
 ],
 "metadata": {
  "kernelspec": {
   "display_name": "Python 3 (ipykernel)",
   "language": "python",
   "name": "python3"
  },
  "language_info": {
   "codemirror_mode": {
    "name": "ipython",
    "version": 3
   },
   "file_extension": ".py",
   "mimetype": "text/x-python",
   "name": "python",
   "nbconvert_exporter": "python",
   "pygments_lexer": "ipython3",
   "version": "3.9.7"
  }
 },
 "nbformat": 4,
 "nbformat_minor": 2
}
